{
 "cells": [
  {
   "cell_type": "markdown",
   "metadata": {},
   "source": [
    "# Análisis de Futbol Europeo\n",
    "\n",
    "##### Mentor: Mario Ferreyra\n",
    "##### Alumno: Gianfranco Barbiani\n",
    "##### Fecha: Sábado 2 de Noviembre de 2019"
   ]
  },
  {
   "cell_type": "markdown",
   "metadata": {},
   "source": [
    "### ¿Machine Learning en el futbol actual?\n",
    "Si le preguntamos a diferentes eminencias de este deporte: ¿Qué es el fútbol?, podriamos resumir que se trata de pasión, talento, habilidad y de esa \"chispa\" que tienen algunos; pero también se trata de entrenamiento constante, dietas rigurosas, concentración y sacrificio. Es en estas últimas cosas que el entrenador de un equipo, el personal médico y el cuerpo técnico en general buscar guiar al jugador para que rinda más, mejore y se eviten lesiones en el camino.\n",
    "\n",
    "Si hay algo que hoy en dia es más sencillo que nunca es relevar datos: estadísticas de los jugadores, perfiles de juego de los equipos y resúmenes de los resultados de los partidos disputados por liga, por nombrar algunos. Y es aquí que aparece el protagonista de esta Diplomatura: La Ciencia de Datos en un principio nos permite analizar esos datos crudos y obtener **información** a base de ellos. Tras analizar los mismos a traves de un ojo experto (o al menos entrenado) es posible comenzar a visualizar patrones y tendencias. Esto es algo que en el futbol europeo ya se ve hace años y está comenzando a \"automatizarse\" mediante el uso de AI, por ejemplo, para:\n",
    "- Predecir resultados de partidos,\n",
    "- Predecir lesiones,\n",
    "- Comparar y elejir esquemas de juego,\n",
    "- Tomar decisiones sobre concretar o no un fichaje,\n",
    "\n",
    "y la lista continúa. Como se puede suponer, el hecho de contar con esta información representa un clara ventaja competitiva entre clubes, apostadores, agentes de fichajes y cazadores de talentos entre otros."
   ]
  },
  {
   "cell_type": "markdown",
   "metadata": {},
   "source": [
    "### Nuestro escenario\n",
    "El conjunto de datos que nuestro mentor nos propuso está compuesto por 3 *datasets*:\n",
    "- **FOOTBALL_PLAYER**\n",
    "- **FOOTBALL_TEAM**\n",
    "- **FOOTBALL_MATCH**\n",
    "\n",
    "##### FOOTBALL_PLAYER\n",
    "Está compuesta por:\n",
    "- Nombre del jugador\n",
    "- Fecha de nacimiento\n",
    "- Edad\n",
    "- Peso\n",
    "- Altura\n",
    "- Indice de masa corporal\n",
    "- Ratings FIFA:\n",
    "    - Rating general\n",
    "    - Definicion\n",
    "    - Vision de pase\n",
    "    - Pase corto\n",
    "    - Pase Largo\n",
    "    - Habilidad de portero, entre otros\n",
    "\n",
    "\n",
    "##### FOOTBALL_TEAM\n",
    "Está compuesta por:\n",
    "- Nombre del equipo\n",
    "- Velociadad de juego\n",
    "- Capacidad de dribleo\n",
    "- Capacidad de pase\n",
    "- Capacidad de posicionamiento\n",
    "- Capacidad de creación\n",
    "- Capacidad de tiro\n",
    "- Presion de la defenza\n",
    "- Anchura del equipo, entre otros\n",
    "    \n",
    "\n",
    "##### FOOTBALL_MATCH\n",
    "Está compuesta por:\n",
    "- Nombre del país\n",
    "- Nombre de la liga\n",
    "- Temporada\n",
    "- Etapa\n",
    "- Fecha del partido\n",
    "- Nombre del equipo visitante\n",
    "- Nombre del equipo local\n",
    "- Goles del equipo visitante\n",
    "- Goles del equipo local\n",
    "- Total de goles, entre otros\n",
    "- Apuestas de \"Bet365\":\n",
    "    - Gana visitante\n",
    "    - Empate\n",
    "    - Gana local"
   ]
  },
  {
   "cell_type": "markdown",
   "metadata": {},
   "source": [
    "### El camino del Mentor\n",
    "A medida que avanzaba el cursada de la diplomatura, nuestro mentor nos fue guiando a aplicar los nuevos conocimientos a nuestros datasets. A continuación un resúmen de lo logrado en las diferentes etapas:"
   ]
  },
  {
   "attachments": {},
   "cell_type": "markdown",
   "metadata": {},
   "source": [
    "#### Análisis y Visualación de Datos\n",
    "En esta etapa se focalizó primeramente en el dataset de **Football_Player** y en particular en las features **long_shot** y **shot_power**.\n",
    "\n",
    "Se obtuvieron datos estadísticos de los mismos, se graficó su distribución y se buscaron datos atípicos (outliers). Pero lo más interesante fue analizar la teoría de que existiera diferencia en estas propiedades, dependiendo de si un jugador es zurdo o diestro. Esto fue a lo que concluimos:\n",
    "\n",
    "- *\"...hay menos jugadores zurdos que patean con menos fuerza que derechos y a medida que el valor de shot_power comienza a incrementar, ambos grupos de jugadores (diestros y zurdos) se comienzan a parecer más y más.\"*\n",
    "- *Podemos ver en el boxplot que los jugadores zurdos tienen un valor minimo de long_shots más alto que los diestros. Sin embargo, al comparar los valores en el otro extremo (los valores altos) vemos que los jugadores diestros tieneden a superar los valores de long_shots de los zurdos. Otro dato no menor es que segun el z-score, no hay jugadores zurdos que puedan ser considerados outliers para la variable long_shots.\"*\n",
    "- *\"Podemos ver como hay una relacion lineal entre las dos variables (long_shot y shot_power): Ambas tienden a aumentar cuando la otra tambien lo hace.\"*\n",
    "![](img/AyV/long_shot_shot_power.png)\n",
    "- *\"Podemos ver que la correlacion entre ambas variables casi no varia si hablamos de jugadores diestros o zurdos (aunque es levemente mayor la correlacion en jugadores diestros).\"*\n",
    "\n",
    "Brevemente se analizaron las features **weight_kg**, **height_m** y **age**. Estas fueron las conclusiones:\n",
    "- *\"Podemos deducir de ambos graficos que no existe una correlacion clara entre el peso y la edad de los jugadores. La relacion esta lejos de ser directamente proporcional (al comparar contra la identidad), pero se puede observar un leve incremente del peso con el paso de los los años, pero muy suave.\"*\n",
    "- *\"Podemos deducir de ambos graficos que no existe una correlacion alguna entre la altura y la edad de los jugadores.\"*\n",
    "\n",
    "Más adelante el foco se movió al dataset de **Football_Match**. Una vez mas se obtivieron algunos datos estadísticos de interés:\n",
    "- Liga Europea con mayor cantidad de partidos: Comparten el podio las ligas de España, Inglaterra y Francia con un total de 3040, seguidas de cerca por la liga de Italia con 3017 goles.\n",
    "![](img/AyV/matches_per_league.png)\n",
    "- Top 10 de Equipos con mayor cantidad de goles convertidos: Total, Local y Visitante: \n",
    "![](img/AyV/goals_scored_podium.png)\n",
    "- Resumen de Goles convertidos por Temporada: Total, Local y Visitante:\n",
    "![](img/AyV/goals_per_temp.png)\n",
    "- Proporciones de los resultados de los partidos:\n",
    "![](img/AyV/match_results_proportion.png)"
   ]
  },
  {
   "cell_type": "markdown",
   "metadata": {},
   "source": [
    "#### Analisis Exploratorio y Curación de Datos\n",
    "En esta etapa el mentor nos guió a traves de algunos pasos recomendados para \"limpiar\" nuestros datasets:\n",
    "- Detección de caracteres no soportados en las columnas de los dataframes.\n",
    "- Creación de nuevos atributos (como combinación lineal de otros).\n",
    "- Tramamiento de valores faltantes: En esta sección quedó a nuestro criterio decidir si eliminar las filas con valores faltantes. Esta fue la decición: *\"...no eliminariamos los missing values en este caso porque eso implicaria eliminar 500 filas de nuestro dataset, solo porque estan faltando 7 features de las 40 que son en total, por lo que estariamos eliminando mucha informacion útil junto con ellas.\"*. A continuación rellenamos los valoes faltantes usando la *moda*.\n",
    "- Nomarlizacion de algunas columas usando *Z-Score* y *Min-Max*.\n",
    "- Codificacion de los valores de una de las columnas del dataset *Footbal_Match*."
   ]
  },
  {
   "cell_type": "markdown",
   "metadata": {},
   "source": [
    "#### Introduccion al Aprendizaje Automatico\n",
    "En esta etapa se nos fue encomendado, primeramente, **predecir** el valor de *Overall Rating* de los jugadores, dado el resto de sus atributos (usando el dataframe \"Footbal_Player\". El mentor nos propuso implementar los siguientes predictores:\n",
    "(*Aclaración: en las imágenes a continuación se seleccionó solo un atributo del jugador (vision), para poder graficar la prediccion*)\n",
    "- Regresion Lineal\n",
    "![](img/IAA/reg_lin.png)\n",
    "- Regresion Polinomial\n",
    "![](img/IAA/reg_pol.png)\n",
    "\n",
    "\n",
    "En segundo lugar se nos solicitó **clasificar** el *attacking_work_rate* de un jugador, lo cual se puede entender como qué tan orientado al ataque es un jugador (poco, moderado o alto). Se usó sólo el atributo *dribbling* y se implementó el clasificador:\n",
    "- Regresión Logistica"
   ]
  },
  {
   "cell_type": "code",
   "execution_count": null,
   "metadata": {},
   "outputs": [],
   "source": []
  }
 ],
 "metadata": {
  "kernelspec": {
   "display_name": "Python 3",
   "language": "python",
   "name": "python3"
  },
  "language_info": {
   "codemirror_mode": {
    "name": "ipython",
    "version": 3
   },
   "file_extension": ".py",
   "mimetype": "text/x-python",
   "name": "python",
   "nbconvert_exporter": "python",
   "pygments_lexer": "ipython3",
   "version": "3.6.4"
  }
 },
 "nbformat": 4,
 "nbformat_minor": 2
}
